{
 "cells": [
  {
   "cell_type": "code",
   "execution_count": 1,
   "id": "sunset-benchmark",
   "metadata": {},
   "outputs": [],
   "source": [
    "using Gmsh: gmsh\n",
    "using Gridap\n",
    "using GridapGmsh\n",
    "using Gridap.Algebra\n",
    "using Gridap.TensorValues\n",
    "using Gridap.ReferenceFEs\n",
    "using LinearAlgebra\n",
    "using PyPlot"
   ]
  },
  {
   "cell_type": "code",
   "execution_count": 2,
   "id": "collaborative-mathematics",
   "metadata": {},
   "outputs": [
    {
     "name": "stdout",
     "output_type": "stream",
     "text": [
      "Info    : Meshing 1D...\n",
      "Info    : Meshing curve 1 (Line)\n",
      "Info    : Meshing curve 2 (Line)\n",
      "Info    : Meshing curve 3 (Line)\n",
      "Info    : Meshing curve 4 (Line)\n",
      "Info    : Done meshing 1D (0.000288 s)\n",
      "Info    : Meshing 2D...\n",
      "Info    : Meshing surface 1 (Plane, Delaunay)\n",
      "Info    : Done meshing 2D (0.00198 s)\n",
      "Info    : 29 vertices 60 elements\n",
      "Info    : Writing 'ExampleModel.msh'...\n",
      "Info    : Done writing 'ExampleModel.msh'\n"
     ]
    }
   ],
   "source": [
    "gmsh.initialize()\n",
    "gmsh.option.setNumber(\"General.Terminal\", 1)\n",
    "L = 1.0\n",
    "h = 0.25\n",
    "p1 = gmsh.model.geo.addPoint(0, 0, 0, h)\n",
    "p2 = gmsh.model.geo.addPoint(L, 0, 0, h)\n",
    "p3 = gmsh.model.geo.addPoint(L, L, 0, h)\n",
    "p4 = gmsh.model.geo.addPoint(0, L, 0, h)\n",
    "\n",
    "l1 = gmsh.model.geo.addLine(p1, p2)\n",
    "l2 = gmsh.model.geo.addLine(p2, p3)\n",
    "l3 = gmsh.model.geo.addLine(p3, p4)\n",
    "l4 = gmsh.model.geo.addLine(p4, p1)\n",
    "\n",
    "cl1 = gmsh.model.geo.addCurveLoop([l1,l2,l3,l4])\n",
    "ps1 = gmsh.model.geo.addPlaneSurface([cl1])\n",
    "\n",
    "pg1 = gmsh.model.addPhysicalGroup(2, [ps1])\n",
    "pg2 = gmsh.model.addPhysicalGroup(1, [l1])\n",
    "pg3 = gmsh.model.addPhysicalGroup(1, [l3])\n",
    "\n",
    "gmsh.model.setPhysicalName(2, pg1, \"Domain\")\n",
    "gmsh.model.setPhysicalName(1, pg2, \"support\")\n",
    "gmsh.model.setPhysicalName(1, pg3, \"load\")\n",
    "\n",
    "gmsh.model.geo.synchronize()\n",
    "gmsh.model.mesh.generate(2)\n",
    "gmsh.write(\"ExampleModel.msh\")\n",
    "gmsh.finalize()"
   ]
  },
  {
   "cell_type": "code",
   "execution_count": 3,
   "id": "suitable-integration",
   "metadata": {},
   "outputs": [
    {
     "name": "stdout",
     "output_type": "stream",
     "text": [
      "Info    : Reading 'ExampleModel.msh'...\n",
      "Info    : 9 entities\n",
      "Info    : 29 nodes\n",
      "Info    : 48 elements\n",
      "Info    : Done reading 'ExampleModel.msh'\n"
     ]
    },
    {
     "data": {
      "text/plain": [
       "3-element Vector{Vector{String}}:\n",
       " [\"Model1_0.vtu\"]\n",
       " [\"Model1_1.vtu\"]\n",
       " [\"Model1_2.vtu\"]"
      ]
     },
     "execution_count": 3,
     "metadata": {},
     "output_type": "execute_result"
    }
   ],
   "source": [
    "model = GmshDiscreteModel(\"ExampleModel.msh\")\n",
    "writevtk(model,\"Model1\")"
   ]
  },
  {
   "cell_type": "code",
   "execution_count": 4,
   "id": "hydraulic-karen",
   "metadata": {},
   "outputs": [
    {
     "data": {
      "text/plain": [
       "40-element Vector{Int8}:\n",
       " 3\n",
       " 3\n",
       " 3\n",
       " 3\n",
       " 3\n",
       " 3\n",
       " 3\n",
       " 3\n",
       " 3\n",
       " 3\n",
       " 3\n",
       " 3\n",
       " 3\n",
       " ⋮\n",
       " 3\n",
       " 3\n",
       " 3\n",
       " 3\n",
       " 3\n",
       " 3\n",
       " 3\n",
       " 3\n",
       " 3\n",
       " 3\n",
       " 3\n",
       " 3"
      ]
     },
     "execution_count": 4,
     "metadata": {},
     "output_type": "execute_result"
    }
   ],
   "source": [
    "using Gridap.Geometry\n",
    "labels = get_face_labeling(model)\n",
    "dimension = 2\n",
    "mat_tags = get_face_tag(labels,dimension)"
   ]
  },
  {
   "cell_type": "code",
   "execution_count": 5,
   "id": "pregnant-wheat",
   "metadata": {},
   "outputs": [],
   "source": [
    "p = get_vertex_node(model)\n",
    "gr = get_grid(model)\n",
    "nodes = get_node_coordinates(gr);"
   ]
  },
  {
   "cell_type": "code",
   "execution_count": 6,
   "id": "opening-carolina",
   "metadata": {},
   "outputs": [
    {
     "data": {
      "text/plain": [
       "TrialFESpace()"
      ]
     },
     "execution_count": 6,
     "metadata": {},
     "output_type": "execute_result"
    }
   ],
   "source": [
    "order = 1\n",
    "\n",
    "reffe = ReferenceFE(lagrangian,VectorValue{2,Float64},order)\n",
    "V0 = TestFESpace(model,reffe;\n",
    "  conformity=:H1,\n",
    "  dirichlet_tags=[\"support\",\"load\"],\n",
    "  dirichlet_masks=[(true,true), (true,false)])\n",
    "\n",
    "g1(x) = VectorValue(0.0,0.0)\n",
    "g2(x) = VectorValue(0.01,0.0)\n",
    "\n",
    "U = TrialFESpace(V0,[g1,g2])"
   ]
  },
  {
   "cell_type": "code",
   "execution_count": 7,
   "id": "fallen-daily",
   "metadata": {},
   "outputs": [
    {
     "data": {
      "text/plain": [
       "σ (generic function with 1 method)"
      ]
     },
     "execution_count": 7,
     "metadata": {},
     "output_type": "execute_result"
    }
   ],
   "source": [
    "const E = 70.0e9\n",
    "const ν = 0.33\n",
    "const λ = (E*ν)/((1+ν)*(1-2*ν))\n",
    "const μ = E/(2*(1+ν))\n",
    "σ(ε) = λ*tr(ε)*one(ε) + 2*μ*ε"
   ]
  },
  {
   "cell_type": "code",
   "execution_count": 8,
   "id": "absent-bachelor",
   "metadata": {},
   "outputs": [
    {
     "data": {
      "text/plain": [
       "Eigen (generic function with 1 method)"
      ]
     },
     "execution_count": 8,
     "metadata": {},
     "output_type": "execute_result"
    }
   ],
   "source": [
    "function Eigen(E)\n",
    "    E2 = get_array.(E)\n",
    "    Egn = eigvals.(E2)\n",
    "    Egn1 = eigvecs.(E2)\n",
    "    σ1 = map(x->x[1], Egn)\n",
    "    σ2 = map(x->x[2], Egn)\n",
    "    n1 = map(x->x[:,1], Egn1)\n",
    "    n2 = map(x->x[:,2], Egn1)\n",
    "    return σ1, σ1, n1, n2   \n",
    "end"
   ]
  },
  {
   "cell_type": "code",
   "execution_count": 9,
   "id": "liable-yemen",
   "metadata": {},
   "outputs": [
    {
     "data": {
      "text/plain": [
       "σEigen (generic function with 1 method)"
      ]
     },
     "execution_count": 9,
     "metadata": {},
     "output_type": "execute_result"
    }
   ],
   "source": [
    "function σEigen(ε)\n",
    "    σElas = σ∘(ε)\n",
    "    σEval = evaluate(σElas,nodes)\n",
    "    σ1, σ1, n1, n2 = Eigen(σEval)\n",
    "    σEg = σ1*(n1 ⊗ n1) + σ2*(n2 ⊗ n2) \n",
    "    return σEg\n",
    "end"
   ]
  },
  {
   "cell_type": "code",
   "execution_count": 10,
   "id": "saved-spain",
   "metadata": {},
   "outputs": [
    {
     "data": {
      "text/plain": [
       "Measure()"
      ]
     },
     "execution_count": 10,
     "metadata": {},
     "output_type": "execute_result"
    }
   ],
   "source": [
    "degree = 2*order\n",
    "Ω = Triangulation(model)\n",
    "dΩ = Measure(Ω,degree)"
   ]
  },
  {
   "cell_type": "code",
   "execution_count": 11,
   "id": "premier-colony",
   "metadata": {},
   "outputs": [
    {
     "data": {
      "text/plain": [
       "l (generic function with 1 method)"
      ]
     },
     "execution_count": 11,
     "metadata": {},
     "output_type": "execute_result"
    }
   ],
   "source": [
    "a(u,v) = ∫( ε(v) ⊙ (σEigen∘(ε(u)) ))*dΩ\n",
    "l(v) = 0"
   ]
  },
  {
   "cell_type": "code",
   "execution_count": 12,
   "id": "improved-moment",
   "metadata": {},
   "outputs": [
    {
     "ename": "LoadError",
     "evalue": "\n\nIt is not possible to perform the operation \"σEigen\" on the given cell fields.\n\nSee the caught error for more information. (If you are using the Visual\n  Studio Code REPL you might not see the caught error, please use the\n  command-line REPL instead).\n",
     "output_type": "error",
     "traceback": [
      "\n\nIt is not possible to perform the operation \"σEigen\" on the given cell fields.\n\nSee the caught error for more information. (If you are using the Visual\n  Studio Code REPL you might not see the caught error, please use the\n  command-line REPL instead).\n",
      "",
      "Stacktrace:",
      "  [1] error(s::String)",
      "    @ Base ./error.jl:33",
      "  [2] macro expansion",
      "    @ ~/.julia/packages/Gridap/yyqf7/src/Helpers/Macros.jl:47 [inlined]",
      "  [3] Gridap.CellData.OperationCellField(op::Operation{typeof(σEigen)}, args::Gridap.CellData.OperationCellField{ReferenceDomain})",
      "    @ Gridap.CellData ~/.julia/packages/Gridap/yyqf7/src/CellData/CellFields.jl:497",
      "  [4] _operate_cellfields(k::Operation{typeof(σEigen)}, a::Gridap.CellData.OperationCellField{ReferenceDomain})",
      "    @ Gridap.CellData ~/.julia/packages/Gridap/yyqf7/src/CellData/CellFields.jl:569",
      "  [5] evaluate!",
      "    @ ~/.julia/packages/Gridap/yyqf7/src/CellData/CellFields.jl:454 [inlined]",
      "  [6] evaluate",
      "    @ ~/.julia/packages/Gridap/yyqf7/src/Arrays/Maps.jl:87 [inlined]",
      "  [7] (::Operation{typeof(σEigen)})(x::Gridap.CellData.OperationCellField{ReferenceDomain})",
      "    @ Gridap.Arrays ~/.julia/packages/Gridap/yyqf7/src/Arrays/Maps.jl:90",
      "  [8] ∘(f::Function, g::Gridap.CellData.OperationCellField{ReferenceDomain})",
      "    @ Gridap.CellData ~/.julia/packages/Gridap/yyqf7/src/CellData/CellFields.jl:630",
      "  [9] a(u::Gridap.FESpaces.SingleFieldFEBasis{Gridap.FESpaces.TrialBasis, ReferenceDomain}, v::Gridap.FESpaces.SingleFieldFEBasis{Gridap.FESpaces.TestBasis, ReferenceDomain})",
      "    @ Main ./In[11]:1",
      " [10] (::Gridap.FESpaces.var\"#57#58\"{typeof(a), typeof(l)})(u::Gridap.FESpaces.SingleFieldFEBasis{Gridap.FESpaces.TrialBasis, ReferenceDomain}, v::Gridap.FESpaces.SingleFieldFEBasis{Gridap.FESpaces.TestBasis, ReferenceDomain})",
      "    @ Gridap.FESpaces ~/.julia/packages/Gridap/yyqf7/src/FESpaces/AffineFEOperators.jl:52",
      " [11] AffineFEOperator(weakform::Gridap.FESpaces.var\"#57#58\"{typeof(a), typeof(l)}, trial::TrialFESpace{Gridap.FESpaces.UnconstrainedFESpace{Vector{Float64}, Gridap.FESpaces.NodeToDofGlue{VectorValue{2, Int32}}}}, test::Gridap.FESpaces.UnconstrainedFESpace{Vector{Float64}, Gridap.FESpaces.NodeToDofGlue{VectorValue{2, Int32}}}, assem::Gridap.FESpaces.GenericSparseMatrixAssembler)",
      "    @ Gridap.FESpaces ~/.julia/packages/Gridap/yyqf7/src/FESpaces/AffineFEOperators.jl:36",
      " [12] AffineFEOperator(::Function, ::TrialFESpace{Gridap.FESpaces.UnconstrainedFESpace{Vector{Float64}, Gridap.FESpaces.NodeToDofGlue{VectorValue{2, Int32}}}}, ::Vararg{Any, N} where N)",
      "    @ Gridap.FESpaces ~/.julia/packages/Gridap/yyqf7/src/FESpaces/AffineFEOperators.jl:47",
      " [13] AffineFEOperator(::typeof(a), ::typeof(l), ::TrialFESpace{Gridap.FESpaces.UnconstrainedFESpace{Vector{Float64}, Gridap.FESpaces.NodeToDofGlue{VectorValue{2, Int32}}}}, ::Vararg{Any, N} where N)",
      "    @ Gridap.FESpaces ~/.julia/packages/Gridap/yyqf7/src/FESpaces/AffineFEOperators.jl:51",
      " [14] top-level scope",
      "    @ In[12]:1",
      " [15] eval",
      "    @ ./boot.jl:360 [inlined]",
      " [16] include_string(mapexpr::typeof(REPL.softscope), mod::Module, code::String, filename::String)",
      "    @ Base ./loading.jl:1094"
     ]
    }
   ],
   "source": [
    "op = AffineFEOperator(a,l,U,V0)\n",
    "uh = solve(op)"
   ]
  },
  {
   "cell_type": "code",
   "execution_count": 13,
   "id": "occasional-bishop",
   "metadata": {},
   "outputs": [
    {
     "ename": "LoadError",
     "evalue": "UndefVarError: uh not defined",
     "output_type": "error",
     "traceback": [
      "UndefVarError: uh not defined",
      "",
      "Stacktrace:",
      " [1] top-level scope",
      "   @ In[13]:1",
      " [2] eval",
      "   @ ./boot.jl:360 [inlined]",
      " [3] include_string(mapexpr::typeof(REPL.softscope), mod::Module, code::String, filename::String)",
      "   @ Base ./loading.jl:1094"
     ]
    }
   ],
   "source": [
    "writevtk(Ω,\"results\",cellfields=[\"uh\"=>uh,\"epsi\"=>ε(uh),\"sigma\"=>σ∘ε(uh)])"
   ]
  }
 ],
 "metadata": {
  "@webio": {
   "lastCommId": null,
   "lastKernelId": null
  },
  "kernelspec": {
   "display_name": "Julia 1.6.1",
   "language": "julia",
   "name": "julia-1.6"
  },
  "language_info": {
   "file_extension": ".jl",
   "mimetype": "application/julia",
   "name": "julia",
   "version": "1.6.1"
  }
 },
 "nbformat": 4,
 "nbformat_minor": 5
}
